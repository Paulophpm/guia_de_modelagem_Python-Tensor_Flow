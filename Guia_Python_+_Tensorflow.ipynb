{
  "cells": [
    {
      "cell_type": "markdown",
      "metadata": {
        "id": "view-in-github",
        "colab_type": "text"
      },
      "source": [
        "<a href=\"https://colab.research.google.com/github/Paulophpm/guia_de_modelagem_Python-Tensor_Flow/blob/main/Guia_Python_%2B_Tensorflow.ipynb\" target=\"_parent\"><img src=\"https://colab.research.google.com/assets/colab-badge.svg\" alt=\"Open In Colab\"/></a>"
      ]
    },
    {
      "cell_type": "markdown",
      "metadata": {
        "id": "Mr_2q8EfWsjd"
      },
      "source": [
        "# Guia de Modelagem Preditiva com Linguagem Python e TensorFlow"
      ]
    },
    {
      "cell_type": "markdown",
      "metadata": {
        "id": "rpaFhFmoWsji"
      },
      "source": [
        "Neste Mini-Projeto vamos apresentar um guia básico de modelagem preditiva usando Linguagem Python e TensorFlow, o principal framework para construção de modelos de Machine Learning e Deep Learning e para construir aplicações comerciais de Inteligência Artificial.\n",
        "\n",
        "Este é um guia básico pois o TensorFlow é um framework extenso. O TensorFlow é abordado em detalhes nos cursos da <a href=\"https://www.datascienceacademy.com.br/bundle/formacao-inteligencia-artificial\">Formação Inteligência Artificial</a> (especialmente no curso Deep Learning Frameworks) e na <a href=\"https://www.datascienceacademy.com.br/bundle/formacao-inteligencia-artificial-aplicada-a-medicina\">Formação IA Aplicada à Medicina</a>.\n",
        "\n",
        "Na <a href=\"https://www.datascienceacademy.com.br/bundle/formacao-cientista-de-dados\">Formação Cientista de Dados</a>, no curso de Machine Learning também há um módulo sobre TensorFlow. Alguns projetos com TensorFlow podem ser encontrados no curso de IA Aplicada a Finanças da <a href=\"https://www.datascienceacademy.com.br/bundle/formacao-engenheiro-blockchain\">Formação Engenheiro Blockchain</a>."
      ]
    },
    {
      "cell_type": "markdown",
      "metadata": {
        "id": "o97XW46NWsjl"
      },
      "source": [
        "## Instalando e Carregando Pacotes"
      ]
    },
    {
      "cell_type": "code",
      "execution_count": 1,
      "metadata": {
        "colab": {
          "base_uri": "https://localhost:8080/"
        },
        "id": "q-LeLKYVWsjn",
        "outputId": "fa4c987c-eb61-44a2-ce3a-53a179a24329"
      },
      "outputs": [
        {
          "output_type": "stream",
          "name": "stdout",
          "text": [
            "Versão da Linguagem Python Usada Neste Jupyter Notebook: 3.7.13\n"
          ]
        }
      ],
      "source": [
        "# Versão da Linguagem Python\n",
        "from platform import python_version\n",
        "print('Versão da Linguagem Python Usada Neste Jupyter Notebook:', python_version())"
      ]
    },
    {
      "cell_type": "code",
      "execution_count": null,
      "metadata": {
        "id": "uzOtS49tWsju"
      },
      "outputs": [],
      "source": [
        "# Instala o TensorFlow\n",
        "#!pip install -q tensorflow==2.5"
      ]
    },
    {
      "cell_type": "code",
      "execution_count": null,
      "metadata": {
        "id": "x0s4tuTzWsjx"
      },
      "outputs": [],
      "source": [
        "# Instala o Pydot\n",
        "!pip install -q pydot"
      ]
    },
    {
      "cell_type": "code",
      "execution_count": 2,
      "metadata": {
        "id": "Yh0AtXXOXVuD"
      },
      "outputs": [],
      "source": [
        "# Imports\n",
        "import numpy as np\n",
        "import pandas as pd\n",
        "import matplotlib.pyplot as plt\n",
        "import seaborn as sns"
      ]
    },
    {
      "cell_type": "code",
      "execution_count": 3,
      "metadata": {
        "colab": {
          "base_uri": "https://localhost:8080/"
        },
        "id": "zP5cGu1RWLxw",
        "outputId": "197cd1cd-e7d8-4af2-ff32-6fa16437af2c"
      },
      "outputs": [
        {
          "output_type": "stream",
          "name": "stdout",
          "text": [
            "2.8.2\n"
          ]
        }
      ],
      "source": [
        "# Imports\n",
        "import tensorflow as tf\n",
        "from tensorflow import keras\n",
        "from tensorflow.keras import layers\n",
        "print(tf.__version__)"
      ]
    },
    {
      "cell_type": "markdown",
      "metadata": {
        "id": "XpmlY4MLWsj2"
      },
      "source": [
        "## Carregando os Dados"
      ]
    },
    {
      "cell_type": "markdown",
      "metadata": {
        "id": "CTetrCMSca0w"
      },
      "source": [
        "### Boston House Prices Dataset\n",
        "\n",
        "https://www.cs.toronto.edu/~delve/data/boston/bostonDetail.html\n",
        "\n",
        "#### Características:\n",
        "\n",
        "* Número de Observções: 506\n",
        "* Os primeiros 13 recursos são recursos preditivos numéricos / categóricos. \n",
        "* O último (atributo 14): o valor mediano é a variável de destino."
      ]
    },
    {
      "cell_type": "code",
      "execution_count": 9,
      "metadata": {
        "id": "3bAedq0NWThz"
      },
      "outputs": [],
      "source": [
        "# Download dos dados utilizando\n",
        "import ssl\n",
        "ssl._create_default_https_context = ssl._create_unverified_context\n",
        "dataset_path = keras.utils.get_file(\"housing.data\", \"https://archive.ics.uci.edu/ml/machine-learning-databases/housing/housing.data\")"
      ]
    },
    {
      "cell_type": "code",
      "execution_count": 10,
      "metadata": {
        "id": "U3Pv_Om-WwHN"
      },
      "outputs": [],
      "source": [
        "# Nomes das colunas\n",
        "nomes_colunas = ['CRIM',\n",
        "                 'ZN',\n",
        "                 'INDUS',\n",
        "                 'CHAS',\n",
        "                 'NOX',\n",
        "                 'RM', \n",
        "                 'AGE', \n",
        "                 'DIS',\n",
        "                 'RAD',\n",
        "                 'TAX',\n",
        "                 'PTRATION', \n",
        "                 'B', \n",
        "                 'LSTAT', \n",
        "                 'MEDV']"
      ]
    },
    {
      "cell_type": "code",
      "execution_count": 11,
      "metadata": {
        "id": "TdpuTlyYWsj6"
      },
      "outputs": [],
      "source": [
        "# Carrega os dados\n",
        "dataset = pd.read_csv(dataset_path, \n",
        "                      names = nomes_colunas,\n",
        "                      na_values = \"?\", \n",
        "                      comment = '\\t',\n",
        "                      sep = \" \", \n",
        "                      skipinitialspace = True)"
      ]
    },
    {
      "cell_type": "code",
      "execution_count": 12,
      "metadata": {
        "colab": {
          "base_uri": "https://localhost:8080/"
        },
        "id": "OJwRPOqNWsj7",
        "outputId": "e66574ec-5aae-4c14-efcd-e9e854a7b019"
      },
      "outputs": [
        {
          "output_type": "execute_result",
          "data": {
            "text/plain": [
              "(506, 14)"
            ]
          },
          "metadata": {},
          "execution_count": 12
        }
      ],
      "source": [
        "# Shape\n",
        "dataset.shape"
      ]
    },
    {
      "cell_type": "code",
      "execution_count": 13,
      "metadata": {
        "colab": {
          "base_uri": "https://localhost:8080/",
          "height": 206
        },
        "id": "Ohpxfg0sWsj8",
        "outputId": "dc369147-20d0-4d65-bb6c-29116ff2f0e8"
      },
      "outputs": [
        {
          "output_type": "execute_result",
          "data": {
            "text/plain": [
              "      CRIM    ZN  INDUS  CHAS    NOX     RM   AGE     DIS  RAD    TAX  \\\n",
              "0  0.00632  18.0   2.31     0  0.538  6.575  65.2  4.0900    1  296.0   \n",
              "1  0.02731   0.0   7.07     0  0.469  6.421  78.9  4.9671    2  242.0   \n",
              "2  0.02729   0.0   7.07     0  0.469  7.185  61.1  4.9671    2  242.0   \n",
              "3  0.03237   0.0   2.18     0  0.458  6.998  45.8  6.0622    3  222.0   \n",
              "4  0.06905   0.0   2.18     0  0.458  7.147  54.2  6.0622    3  222.0   \n",
              "\n",
              "   PTRATION       B  LSTAT  MEDV  \n",
              "0      15.3  396.90   4.98  24.0  \n",
              "1      17.8  396.90   9.14  21.6  \n",
              "2      17.8  392.83   4.03  34.7  \n",
              "3      18.7  394.63   2.94  33.4  \n",
              "4      18.7  396.90   5.33  36.2  "
            ],
            "text/html": [
              "\n",
              "  <div id=\"df-e59b8eb8-f383-42f2-bfc3-ff79cecbe3bf\">\n",
              "    <div class=\"colab-df-container\">\n",
              "      <div>\n",
              "<style scoped>\n",
              "    .dataframe tbody tr th:only-of-type {\n",
              "        vertical-align: middle;\n",
              "    }\n",
              "\n",
              "    .dataframe tbody tr th {\n",
              "        vertical-align: top;\n",
              "    }\n",
              "\n",
              "    .dataframe thead th {\n",
              "        text-align: right;\n",
              "    }\n",
              "</style>\n",
              "<table border=\"1\" class=\"dataframe\">\n",
              "  <thead>\n",
              "    <tr style=\"text-align: right;\">\n",
              "      <th></th>\n",
              "      <th>CRIM</th>\n",
              "      <th>ZN</th>\n",
              "      <th>INDUS</th>\n",
              "      <th>CHAS</th>\n",
              "      <th>NOX</th>\n",
              "      <th>RM</th>\n",
              "      <th>AGE</th>\n",
              "      <th>DIS</th>\n",
              "      <th>RAD</th>\n",
              "      <th>TAX</th>\n",
              "      <th>PTRATION</th>\n",
              "      <th>B</th>\n",
              "      <th>LSTAT</th>\n",
              "      <th>MEDV</th>\n",
              "    </tr>\n",
              "  </thead>\n",
              "  <tbody>\n",
              "    <tr>\n",
              "      <th>0</th>\n",
              "      <td>0.00632</td>\n",
              "      <td>18.0</td>\n",
              "      <td>2.31</td>\n",
              "      <td>0</td>\n",
              "      <td>0.538</td>\n",
              "      <td>6.575</td>\n",
              "      <td>65.2</td>\n",
              "      <td>4.0900</td>\n",
              "      <td>1</td>\n",
              "      <td>296.0</td>\n",
              "      <td>15.3</td>\n",
              "      <td>396.90</td>\n",
              "      <td>4.98</td>\n",
              "      <td>24.0</td>\n",
              "    </tr>\n",
              "    <tr>\n",
              "      <th>1</th>\n",
              "      <td>0.02731</td>\n",
              "      <td>0.0</td>\n",
              "      <td>7.07</td>\n",
              "      <td>0</td>\n",
              "      <td>0.469</td>\n",
              "      <td>6.421</td>\n",
              "      <td>78.9</td>\n",
              "      <td>4.9671</td>\n",
              "      <td>2</td>\n",
              "      <td>242.0</td>\n",
              "      <td>17.8</td>\n",
              "      <td>396.90</td>\n",
              "      <td>9.14</td>\n",
              "      <td>21.6</td>\n",
              "    </tr>\n",
              "    <tr>\n",
              "      <th>2</th>\n",
              "      <td>0.02729</td>\n",
              "      <td>0.0</td>\n",
              "      <td>7.07</td>\n",
              "      <td>0</td>\n",
              "      <td>0.469</td>\n",
              "      <td>7.185</td>\n",
              "      <td>61.1</td>\n",
              "      <td>4.9671</td>\n",
              "      <td>2</td>\n",
              "      <td>242.0</td>\n",
              "      <td>17.8</td>\n",
              "      <td>392.83</td>\n",
              "      <td>4.03</td>\n",
              "      <td>34.7</td>\n",
              "    </tr>\n",
              "    <tr>\n",
              "      <th>3</th>\n",
              "      <td>0.03237</td>\n",
              "      <td>0.0</td>\n",
              "      <td>2.18</td>\n",
              "      <td>0</td>\n",
              "      <td>0.458</td>\n",
              "      <td>6.998</td>\n",
              "      <td>45.8</td>\n",
              "      <td>6.0622</td>\n",
              "      <td>3</td>\n",
              "      <td>222.0</td>\n",
              "      <td>18.7</td>\n",
              "      <td>394.63</td>\n",
              "      <td>2.94</td>\n",
              "      <td>33.4</td>\n",
              "    </tr>\n",
              "    <tr>\n",
              "      <th>4</th>\n",
              "      <td>0.06905</td>\n",
              "      <td>0.0</td>\n",
              "      <td>2.18</td>\n",
              "      <td>0</td>\n",
              "      <td>0.458</td>\n",
              "      <td>7.147</td>\n",
              "      <td>54.2</td>\n",
              "      <td>6.0622</td>\n",
              "      <td>3</td>\n",
              "      <td>222.0</td>\n",
              "      <td>18.7</td>\n",
              "      <td>396.90</td>\n",
              "      <td>5.33</td>\n",
              "      <td>36.2</td>\n",
              "    </tr>\n",
              "  </tbody>\n",
              "</table>\n",
              "</div>\n",
              "      <button class=\"colab-df-convert\" onclick=\"convertToInteractive('df-e59b8eb8-f383-42f2-bfc3-ff79cecbe3bf')\"\n",
              "              title=\"Convert this dataframe to an interactive table.\"\n",
              "              style=\"display:none;\">\n",
              "        \n",
              "  <svg xmlns=\"http://www.w3.org/2000/svg\" height=\"24px\"viewBox=\"0 0 24 24\"\n",
              "       width=\"24px\">\n",
              "    <path d=\"M0 0h24v24H0V0z\" fill=\"none\"/>\n",
              "    <path d=\"M18.56 5.44l.94 2.06.94-2.06 2.06-.94-2.06-.94-.94-2.06-.94 2.06-2.06.94zm-11 1L8.5 8.5l.94-2.06 2.06-.94-2.06-.94L8.5 2.5l-.94 2.06-2.06.94zm10 10l.94 2.06.94-2.06 2.06-.94-2.06-.94-.94-2.06-.94 2.06-2.06.94z\"/><path d=\"M17.41 7.96l-1.37-1.37c-.4-.4-.92-.59-1.43-.59-.52 0-1.04.2-1.43.59L10.3 9.45l-7.72 7.72c-.78.78-.78 2.05 0 2.83L4 21.41c.39.39.9.59 1.41.59.51 0 1.02-.2 1.41-.59l7.78-7.78 2.81-2.81c.8-.78.8-2.07 0-2.86zM5.41 20L4 18.59l7.72-7.72 1.47 1.35L5.41 20z\"/>\n",
              "  </svg>\n",
              "      </button>\n",
              "      \n",
              "  <style>\n",
              "    .colab-df-container {\n",
              "      display:flex;\n",
              "      flex-wrap:wrap;\n",
              "      gap: 12px;\n",
              "    }\n",
              "\n",
              "    .colab-df-convert {\n",
              "      background-color: #E8F0FE;\n",
              "      border: none;\n",
              "      border-radius: 50%;\n",
              "      cursor: pointer;\n",
              "      display: none;\n",
              "      fill: #1967D2;\n",
              "      height: 32px;\n",
              "      padding: 0 0 0 0;\n",
              "      width: 32px;\n",
              "    }\n",
              "\n",
              "    .colab-df-convert:hover {\n",
              "      background-color: #E2EBFA;\n",
              "      box-shadow: 0px 1px 2px rgba(60, 64, 67, 0.3), 0px 1px 3px 1px rgba(60, 64, 67, 0.15);\n",
              "      fill: #174EA6;\n",
              "    }\n",
              "\n",
              "    [theme=dark] .colab-df-convert {\n",
              "      background-color: #3B4455;\n",
              "      fill: #D2E3FC;\n",
              "    }\n",
              "\n",
              "    [theme=dark] .colab-df-convert:hover {\n",
              "      background-color: #434B5C;\n",
              "      box-shadow: 0px 1px 3px 1px rgba(0, 0, 0, 0.15);\n",
              "      filter: drop-shadow(0px 1px 2px rgba(0, 0, 0, 0.3));\n",
              "      fill: #FFFFFF;\n",
              "    }\n",
              "  </style>\n",
              "\n",
              "      <script>\n",
              "        const buttonEl =\n",
              "          document.querySelector('#df-e59b8eb8-f383-42f2-bfc3-ff79cecbe3bf button.colab-df-convert');\n",
              "        buttonEl.style.display =\n",
              "          google.colab.kernel.accessAllowed ? 'block' : 'none';\n",
              "\n",
              "        async function convertToInteractive(key) {\n",
              "          const element = document.querySelector('#df-e59b8eb8-f383-42f2-bfc3-ff79cecbe3bf');\n",
              "          const dataTable =\n",
              "            await google.colab.kernel.invokeFunction('convertToInteractive',\n",
              "                                                     [key], {});\n",
              "          if (!dataTable) return;\n",
              "\n",
              "          const docLinkHtml = 'Like what you see? Visit the ' +\n",
              "            '<a target=\"_blank\" href=https://colab.research.google.com/notebooks/data_table.ipynb>data table notebook</a>'\n",
              "            + ' to learn more about interactive tables.';\n",
              "          element.innerHTML = '';\n",
              "          dataTable['output_type'] = 'display_data';\n",
              "          await google.colab.output.renderOutput(dataTable, element);\n",
              "          const docLink = document.createElement('div');\n",
              "          docLink.innerHTML = docLinkHtml;\n",
              "          element.appendChild(docLink);\n",
              "        }\n",
              "      </script>\n",
              "    </div>\n",
              "  </div>\n",
              "  "
            ]
          },
          "metadata": {},
          "execution_count": 13
        }
      ],
      "source": [
        "# Visualiza os dados\n",
        "dataset.head()"
      ]
    },
    {
      "cell_type": "markdown",
      "metadata": {
        "id": "nf8QJRMeh910"
      },
      "source": [
        "Vamos dividir os dados em treino e teste com proporção 80/20."
      ]
    },
    {
      "cell_type": "code",
      "execution_count": 14,
      "metadata": {
        "id": "Vd0uyKsFgyQ0"
      },
      "outputs": [],
      "source": [
        "# Split dos dados\n",
        "dados_treino = dataset.sample(frac = 0.8, random_state = 0)\n",
        "dados_teste = dataset.drop(dados_treino.index)"
      ]
    },
    {
      "cell_type": "markdown",
      "metadata": {
        "id": "4vC8cz0chjL1"
      },
      "source": [
        "## Modelagem Preditiva - Regressão Linear Simples\n",
        "\n",
        "Na regressão linear simples desejamos modelar a relação entre a variável dependente (y) e uma variável independente (x).\n",
        "\n",
        "* Variável independente: 'RM'\n",
        "* Variável dependente: 'MEDV'\n",
        "\n",
        "Queremos prever o valor da mediana das casas ocupadas por proprietários com base no número de quartos."
      ]
    },
    {
      "cell_type": "markdown",
      "metadata": {
        "id": "KY0vmL_PhIPn"
      },
      "source": [
        "Vamos criar um plot mostrando a relação atual entre as variáveis.\n",
        "\n",
        "Basicamente temos $MEDV=f(RM)$ e queremos estimar a função $f()$ usando regressão linear."
      ]
    },
    {
      "cell_type": "code",
      "execution_count": null,
      "metadata": {
        "id": "E_R3ADmzgmo0"
      },
      "outputs": [],
      "source": [
        "# Representação visual dos dados de treino\n",
        "fig, ax = plt.subplots()\n",
        "x = dados_treino['RM']\n",
        "y = dados_treino['MEDV']\n",
        "ax.scatter(x, y, edgecolors = (0, 0, 0))\n",
        "ax.set_xlabel('RM')\n",
        "ax.set_ylabel('MEDV')\n",
        "plt.show()"
      ]
    },
    {
      "cell_type": "markdown",
      "metadata": {
        "id": "M-EpBay_M3_X"
      },
      "source": [
        "Vamos separar x e y."
      ]
    },
    {
      "cell_type": "code",
      "execution_count": null,
      "metadata": {
        "id": "dgOBhSaniDHx"
      },
      "outputs": [],
      "source": [
        "# Divisão\n",
        "x_treino = dados_treino['RM']\n",
        "y_treino = dados_treino['MEDV']\n",
        "x_teste = dados_teste['RM']\n",
        "y_teste = dados_teste['MEDV']"
      ]
    },
    {
      "cell_type": "markdown",
      "metadata": {
        "id": "VXA8J28QWYMH"
      },
      "source": [
        "## Criação do Modelo\n",
        "\n",
        "Queremos encontrar os parâmetros (**W**) que permitem prever a saída y a partir da entrada x:\n",
        "\n",
        "$y = w_1 x + w_0$\n",
        "\n",
        "A fórmula acima pode ser definida com a seguinte camada densa em um modelo de rede neural artificial:\n",
        "\n",
        "*layers.Dense(1, use_bias=True, input_shape=(1,))*"
      ]
    },
    {
      "cell_type": "code",
      "execution_count": null,
      "metadata": {
        "id": "QKZTRsGIWskC"
      },
      "outputs": [],
      "source": [
        "# Função para construir o modelo\n",
        "def modelo_linear():\n",
        "    \n",
        "    # Cria o modelo\n",
        "    model = keras.Sequential([layers.Dense(1, use_bias = True, input_shape = (1,), name = 'layer')])\n",
        "\n",
        "    # Otimizador\n",
        "    optimizer = tf.keras.optimizers.Adam(learning_rate = 0.01, \n",
        "                                         beta_1 = 0.9, \n",
        "                                         beta_2 = 0.99, \n",
        "                                         epsilon = 1e-05, \n",
        "                                         amsgrad = False, \n",
        "                                         name = 'Adam')\n",
        "    \n",
        "    # Compila o modelo\n",
        "    model.compile(loss = 'mse', \n",
        "                  optimizer = optimizer, \n",
        "                  metrics = ['mae','mse'])\n",
        "\n",
        "    return model"
      ]
    },
    {
      "cell_type": "markdown",
      "metadata": {
        "id": "LiQf3nL5WskD"
      },
      "source": [
        "MAE = Mean Absolute Error\n",
        "\n",
        "MSE = Mean Squared Error"
      ]
    },
    {
      "cell_type": "code",
      "execution_count": null,
      "metadata": {
        "id": "AV9pkaRHWskD"
      },
      "outputs": [],
      "source": [
        "# Cria o modelo \n",
        "modelo = modelo_linear()"
      ]
    },
    {
      "cell_type": "code",
      "execution_count": null,
      "metadata": {
        "id": "okLiiirkWaot"
      },
      "outputs": [],
      "source": [
        "# Plot do modelo\n",
        "tf.keras.utils.plot_model(modelo, \n",
        "                          to_file = 'imagens/modelo.png', \n",
        "                          show_shapes = True, \n",
        "                          show_layer_names = True,\n",
        "                          rankdir = 'TB', \n",
        "                          expand_nested = False, \n",
        "                          dpi = 100)"
      ]
    },
    {
      "cell_type": "markdown",
      "metadata": {
        "id": "6ny4wr5l3M_k"
      },
      "source": [
        "### Treinamento do Modelo"
      ]
    },
    {
      "cell_type": "code",
      "execution_count": null,
      "metadata": {
        "id": "B5TmKMYBWskF"
      },
      "outputs": [],
      "source": [
        "# Hiperparâmetros\n",
        "n_epochs = 4000\n",
        "batch_size = 256\n",
        "n_idle_epochs = 100\n",
        "n_epochs_log = 200\n",
        "n_samples_save = n_epochs_log * x_treino.shape[0]\n",
        "print('Checkpoint salvo a cada {} amostras'.format(n_samples_save))"
      ]
    },
    {
      "cell_type": "code",
      "execution_count": null,
      "metadata": {
        "id": "miqO9AX5WskF"
      },
      "outputs": [],
      "source": [
        "# Callback\n",
        "earlyStopping = tf.keras.callbacks.EarlyStopping(monitor = 'val_loss', \n",
        "                                                 patience = n_idle_epochs, \n",
        "                                                 min_delta = 0.001)"
      ]
    },
    {
      "cell_type": "code",
      "execution_count": null,
      "metadata": {
        "id": "kIfgH4SwWskG"
      },
      "outputs": [],
      "source": [
        "# Lista para as previsões\n",
        "predictions_list = []"
      ]
    },
    {
      "cell_type": "code",
      "execution_count": null,
      "metadata": {
        "id": "LQDwjxS0WskG"
      },
      "outputs": [],
      "source": [
        "# Caminho ppara salvar o checkpoint\n",
        "checkpoint_path = \"dados/\""
      ]
    },
    {
      "cell_type": "code",
      "execution_count": null,
      "metadata": {
        "id": "_PY20KgqWskH"
      },
      "outputs": [],
      "source": [
        "# Create a callback that saves the model's weights every n_samples_save\n",
        "checkpointCallback = tf.keras.callbacks.ModelCheckpoint(filepath = \"dados/\", \n",
        "                                                        verbose = 1, \n",
        "                                                        save_weights_only = True,\n",
        "                                                        save_freq = n_samples_save)"
      ]
    },
    {
      "cell_type": "code",
      "execution_count": null,
      "metadata": {
        "id": "i9r4AjFhWskH"
      },
      "outputs": [],
      "source": [
        "# Salva a primeira versão do modelo\n",
        "modelo.save_weights(checkpoint_path.format(epoch = 0))"
      ]
    },
    {
      "cell_type": "code",
      "execution_count": null,
      "metadata": {
        "id": "YKMSaOXnXmOT"
      },
      "outputs": [],
      "source": [
        "# Treinamento\n",
        "history = modelo.fit(x_treino, \n",
        "                     y_treino, \n",
        "                     batch_size = batch_size,\n",
        "                     epochs = n_epochs, \n",
        "                     validation_split = 0.1, \n",
        "                     verbose = 1, \n",
        "                     callbacks = [earlyStopping, checkpointCallback])"
      ]
    },
    {
      "cell_type": "code",
      "execution_count": null,
      "metadata": {
        "id": "p0D_IlUMWskI"
      },
      "outputs": [],
      "source": [
        "# Métricas do histórico de treinamento\n",
        "print('keys:', history.history.keys())"
      ]
    },
    {
      "cell_type": "markdown",
      "metadata": {
        "id": "ic14bA88WskJ"
      },
      "source": [
        "MSE = Mean Squared Error"
      ]
    },
    {
      "cell_type": "code",
      "execution_count": null,
      "metadata": {
        "id": "Av7ozA3fWskJ"
      },
      "outputs": [],
      "source": [
        "# Retornando os valores desejados para o plot\n",
        "mse = np.asarray(history.history['mse'])\n",
        "val_mse = np.asarray(history.history['val_mse'])"
      ]
    },
    {
      "cell_type": "code",
      "execution_count": null,
      "metadata": {
        "id": "Zp77sokUWskK"
      },
      "outputs": [],
      "source": [
        "# Prepara os valores para o dataframe\n",
        "num_values = (len(mse))\n",
        "values = np.zeros((num_values, 2), dtype = float)\n",
        "values[:,0] = mse\n",
        "values[:,1] = val_mse"
      ]
    },
    {
      "cell_type": "code",
      "execution_count": null,
      "metadata": {
        "id": "37ifuR7xWskK"
      },
      "outputs": [],
      "source": [
        "# Cria o dataframe\n",
        "steps = pd.RangeIndex(start = 0, stop = num_values)\n",
        "df = pd.DataFrame(values, steps, columns = [\"MSE em Treino\", \"MSE em Validação\"])"
      ]
    },
    {
      "cell_type": "code",
      "execution_count": null,
      "metadata": {
        "id": "z4_rq-oKWskL"
      },
      "outputs": [],
      "source": [
        "df.head()"
      ]
    },
    {
      "cell_type": "code",
      "execution_count": null,
      "metadata": {
        "id": "uVvegIVGXvbv"
      },
      "outputs": [],
      "source": [
        "# Plot\n",
        "sns.set(style = \"whitegrid\")\n",
        "sns.lineplot(data = df, palette = \"tab10\", linewidth  = 2.5)"
      ]
    },
    {
      "cell_type": "code",
      "execution_count": null,
      "metadata": {
        "id": "pCeSzrnhWskL"
      },
      "outputs": [],
      "source": [
        "# Previsões com o modelo treinado\n",
        "previsoes = modelo.predict(x_teste).flatten()"
      ]
    },
    {
      "cell_type": "code",
      "execution_count": null,
      "metadata": {
        "id": "KniAsElx9cqB"
      },
      "outputs": [],
      "source": [
        "# Imprime as previsões\n",
        "previsoes"
      ]
    },
    {
      "cell_type": "markdown",
      "metadata": {
        "id": "TWgA5YvMWskM"
      },
      "source": [
        "# Fim"
      ]
    },
    {
      "cell_type": "markdown",
      "metadata": {
        "id": "waQZVT7DWskM"
      },
      "source": [
        "### Obrigado\n",
        "\n",
        "### Visite o Blog da Data Science Academy - <a href=\"http://blog.dsacademy.com.br\">Blog DSA</a>"
      ]
    }
  ],
  "metadata": {
    "colab": {
      "collapsed_sections": [],
      "name": "Guia Python + Tensorflow.ipynb",
      "provenance": [],
      "include_colab_link": true
    },
    "kernelspec": {
      "display_name": "Python 3.9.12 ('base')",
      "language": "python",
      "name": "python3"
    },
    "language_info": {
      "codemirror_mode": {
        "name": "ipython",
        "version": 3
      },
      "file_extension": ".py",
      "mimetype": "text/x-python",
      "name": "python",
      "nbconvert_exporter": "python",
      "pygments_lexer": "ipython3",
      "version": "3.9.12"
    },
    "vscode": {
      "interpreter": {
        "hash": "fb8bbe35ce05a967cc1765cb51a1a815dfdecdfebe5b24f692427b5b8ca49088"
      }
    }
  },
  "nbformat": 4,
  "nbformat_minor": 0
}